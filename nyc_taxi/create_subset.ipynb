{
 "cells": [
  {
   "cell_type": "code",
   "execution_count": null,
   "metadata": {
    "collapsed": true
   },
   "outputs": [],
   "source": [
    "import os\n",
    "import os.path as op\n",
    "import re\n",
    "import zipfile\n",
    "import glob\n",
    "from itertools import chain, islice\n",
    "import numpy as np\n",
    "import pandas as pd\n",
    "import matplotlib.pyplot as plt\n",
    "%matplotlib inline"
   ]
  },
  {
   "cell_type": "code",
   "execution_count": null,
   "metadata": {
    "collapsed": false
   },
   "outputs": [],
   "source": [
    "%ls data"
   ]
  },
  {
   "cell_type": "code",
   "execution_count": null,
   "metadata": {
    "collapsed": true
   },
   "outputs": [],
   "source": [
    "def _csv_filename(zip_filename):\n",
    "    return op.splitext(op.basename(zip_filename))[0]"
   ]
  },
  {
   "cell_type": "code",
   "execution_count": null,
   "metadata": {
    "collapsed": false
   },
   "outputs": [],
   "source": [
    "def _iter_lines(zip_filename):\n",
    "    print(\"Processing file {file}...\".format(file=zip_filename))\n",
    "    csv_filename = _csv_filename(zip_filename)\n",
    "    with zipfile.ZipFile(zip_filename) as z:\n",
    "        with z.open(csv_filename) as f:\n",
    "            for line in f:\n",
    "                yield line"
   ]
  },
  {
   "cell_type": "code",
   "execution_count": null,
   "metadata": {
    "collapsed": true
   },
   "outputs": [],
   "source": [
    "def _iter_all_lines(files, step=None, stop=None):\n",
    "    return chain(*[islice(_iter_lines(f), min(1, i), stop, step)\n",
    "                   for i, f in enumerate(files)])"
   ]
  },
  {
   "cell_type": "code",
   "execution_count": null,
   "metadata": {
    "collapsed": true
   },
   "outputs": [],
   "source": [
    "def _extract_number(filename):\n",
    "    r = re.search(r'([\\d]+)', filename)\n",
    "    if r:\n",
    "        return int(r.group(1))"
   ]
  },
  {
   "cell_type": "code",
   "execution_count": null,
   "metadata": {
    "collapsed": true
   },
   "outputs": [],
   "source": [
    "def _zip_filenames(name):\n",
    "    return sorted(glob.glob('data/trip_{name}_*.zip'.format(name=name)), \n",
    "                  key=_extract_number)"
   ]
  },
  {
   "cell_type": "code",
   "execution_count": null,
   "metadata": {
    "collapsed": false
   },
   "outputs": [],
   "source": [
    "def _make_extract(step=None, stop=None):\n",
    "    for name in ('fare', 'data'):\n",
    "        filename = 'data/trip_{name}_subset.csv'.format(name=name)\n",
    "        files = _zip_filenames(name)\n",
    "        with open(filename, 'wb') as f:\n",
    "            for line in _iter_all_lines(files, step=step, stop=stop):\n",
    "                f.write(line)"
   ]
  },
  {
   "cell_type": "code",
   "execution_count": null,
   "metadata": {
    "collapsed": true
   },
   "outputs": [],
   "source": [
    "# Only keep one out of 'step' lines.\n",
    "step = 200\n",
    "# In every file, stop after 'stop' lines (None=until the end).\n",
    "stop = 1000"
   ]
  },
  {
   "cell_type": "code",
   "execution_count": null,
   "metadata": {
    "collapsed": false
   },
   "outputs": [],
   "source": [
    "_make_extract(step=step, stop=None)"
   ]
  }
 ],
 "metadata": {
  "kernelspec": {
   "display_name": "Python 3",
   "name": "python3"
  },
  "language_info": {
   "codemirror_mode": {
    "name": "ipython",
    "version": 3
   },
   "file_extension": ".py",
   "mimetype": "text/x-python",
   "name": "python",
   "nbconvert_exporter": "python",
   "pygments_lexer": "ipython3",
   "version": "3.4.2"
  }
 },
 "nbformat": 4,
 "nbformat_minor": 0
}