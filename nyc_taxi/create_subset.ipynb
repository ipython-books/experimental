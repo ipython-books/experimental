{
 "cells": [
  {
   "cell_type": "code",
   "execution_count": 23,
   "metadata": {
    "collapsed": true
   },
   "outputs": [],
   "source": [
    "import os\n",
    "import os.path as op\n",
    "import zipfile\n",
    "import itertools\n",
    "import numpy as np\n",
    "import pandas as pd\n",
    "import matplotlib.pyplot as plt\n",
    "%matplotlib inline"
   ]
  },
  {
   "cell_type": "code",
   "execution_count": 12,
   "metadata": {
    "collapsed": false
   },
   "outputs": [
    {
     "name": "stdout",
     "output_type": "stream",
     "text": [
      "\u001b[0m\u001b[01;32mtrip_data_1.csv.zip\u001b[0m*   \u001b[01;32mtrip_data_6.csv.zip\u001b[0m*   \u001b[01;32mtrip_fare_2.csv.zip\u001b[0m*\r\n",
      "\u001b[01;32mtrip_data_10.csv.zip\u001b[0m*  \u001b[01;32mtrip_data_7.csv.zip\u001b[0m*   \u001b[01;32mtrip_fare_3.csv.zip\u001b[0m*\r\n",
      "\u001b[01;32mtrip_data_11.csv.zip\u001b[0m*  \u001b[01;32mtrip_data_8.csv.zip\u001b[0m*   \u001b[01;32mtrip_fare_4.csv.zip\u001b[0m*\r\n",
      "\u001b[01;32mtrip_data_12.csv.zip\u001b[0m*  \u001b[01;32mtrip_data_9.csv.zip\u001b[0m*   \u001b[01;32mtrip_fare_5.csv.zip\u001b[0m*\r\n",
      "\u001b[01;32mtrip_data_2.csv.zip\u001b[0m*   \u001b[01;32mtrip_fare_1.csv.zip\u001b[0m*   \u001b[01;32mtrip_fare_6.csv.zip\u001b[0m*\r\n",
      "\u001b[01;32mtrip_data_3.csv.zip\u001b[0m*   \u001b[01;32mtrip_fare_10.csv.zip\u001b[0m*  \u001b[01;32mtrip_fare_7.csv.zip\u001b[0m*\r\n",
      "\u001b[01;32mtrip_data_4.csv.zip\u001b[0m*   \u001b[01;32mtrip_fare_11.csv.zip\u001b[0m*  \u001b[01;32mtrip_fare_8.csv.zip\u001b[0m*\r\n",
      "\u001b[01;32mtrip_data_5.csv.zip\u001b[0m*   \u001b[01;32mtrip_fare_12.csv.zip\u001b[0m*  \u001b[01;32mtrip_fare_9.csv.zip\u001b[0m*\r\n"
     ]
    }
   ],
   "source": [
    "%ls data"
   ]
  },
  {
   "cell_type": "code",
   "execution_count": 13,
   "metadata": {
    "collapsed": false
   },
   "outputs": [],
   "source": [
    "zip_filename = 'data/trip_data_1.csv.zip'\n",
    "csv_filename = op.splitext(op.basename(zip_filename))[0]"
   ]
  },
  {
   "cell_type": "code",
   "execution_count": 28,
   "metadata": {
    "collapsed": true
   },
   "outputs": [],
   "source": [
    "def consume(iterator, n):\n",
    "    return itertools.islice(iterator, n, n)"
   ]
  },
  {
   "cell_type": "code",
   "execution_count": 29,
   "metadata": {
    "collapsed": false
   },
   "outputs": [],
   "source": [
    "def _iter_lines(zip_filename):\n",
    "    with zipfile.ZipFile(zip_filename) as z:\n",
    "        with z.open(csv_filename) as f:\n",
    "            for line in consume(f, 10):\n",
    "                yield line"
   ]
  },
  {
   "cell_type": "code",
   "execution_count": null,
   "metadata": {
    "collapsed": true
   },
   "outputs": [],
   "source": [
    "for line in _iter_lines(zip_filename):\n",
    "    print(line)\n",
    "    break"
   ]
  }
 ],
 "metadata": {
  "kernelspec": {
   "display_name": "Python 3",
   "name": "python3"
  },
  "language_info": {
   "codemirror_mode": {
    "name": "ipython",
    "version": 3
   },
   "file_extension": ".py",
   "mimetype": "text/x-python",
   "name": "python",
   "nbconvert_exporter": "python",
   "pygments_lexer": "ipython3",
   "version": "3.4.2"
  }
 },
 "nbformat": 4,
 "nbformat_minor": 0
}