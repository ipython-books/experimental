{
 "cells": [
  {
   "cell_type": "code",
   "execution_count": 33,
   "metadata": {
    "collapsed": true
   },
   "outputs": [],
   "source": [
    "import os\n",
    "import os.path as op\n",
    "import re\n",
    "import zipfile\n",
    "import glob\n",
    "from itertools import chain, islice\n",
    "import numpy as np\n",
    "import pandas as pd\n",
    "import matplotlib.pyplot as plt\n",
    "%matplotlib inline"
   ]
  },
  {
   "cell_type": "code",
   "execution_count": 34,
   "metadata": {
    "collapsed": false
   },
   "outputs": [
    {
     "name": "stdout",
     "output_type": "stream",
     "text": [
      "\u001b[0m\u001b[01;32mtrip_data_1.csv.zip\u001b[0m*   \u001b[01;32mtrip_data_6.csv.zip\u001b[0m*   \u001b[01;32mtrip_fare_2.csv.zip\u001b[0m*\r\n",
      "\u001b[01;32mtrip_data_10.csv.zip\u001b[0m*  \u001b[01;32mtrip_data_7.csv.zip\u001b[0m*   \u001b[01;32mtrip_fare_3.csv.zip\u001b[0m*\r\n",
      "\u001b[01;32mtrip_data_11.csv.zip\u001b[0m*  \u001b[01;32mtrip_data_8.csv.zip\u001b[0m*   \u001b[01;32mtrip_fare_4.csv.zip\u001b[0m*\r\n",
      "\u001b[01;32mtrip_data_12.csv.zip\u001b[0m*  \u001b[01;32mtrip_data_9.csv.zip\u001b[0m*   \u001b[01;32mtrip_fare_5.csv.zip\u001b[0m*\r\n",
      "\u001b[01;32mtrip_data_2.csv.zip\u001b[0m*   \u001b[01;32mtrip_fare_1.csv.zip\u001b[0m*   \u001b[01;32mtrip_fare_6.csv.zip\u001b[0m*\r\n",
      "\u001b[01;32mtrip_data_3.csv.zip\u001b[0m*   \u001b[01;32mtrip_fare_10.csv.zip\u001b[0m*  \u001b[01;32mtrip_fare_7.csv.zip\u001b[0m*\r\n",
      "\u001b[01;32mtrip_data_4.csv.zip\u001b[0m*   \u001b[01;32mtrip_fare_11.csv.zip\u001b[0m*  \u001b[01;32mtrip_fare_8.csv.zip\u001b[0m*\r\n",
      "\u001b[01;32mtrip_data_5.csv.zip\u001b[0m*   \u001b[01;32mtrip_fare_12.csv.zip\u001b[0m*  \u001b[01;32mtrip_fare_9.csv.zip\u001b[0m*\r\n"
     ]
    }
   ],
   "source": [
    "%ls data"
   ]
  },
  {
   "cell_type": "code",
   "execution_count": 35,
   "metadata": {
    "collapsed": true
   },
   "outputs": [],
   "source": [
    "def _csv_filename(zip_filename):\n",
    "    return op.splitext(op.basename(zip_filename))[0]"
   ]
  },
  {
   "cell_type": "code",
   "execution_count": 36,
   "metadata": {
    "collapsed": false
   },
   "outputs": [],
   "source": [
    "def _iter_lines(zip_filename, start=0):\n",
    "    csv_filename = _csv_filename(zip_filename)\n",
    "    with zipfile.ZipFile(zip_filename) as z:\n",
    "        with z.open(csv_filename) as f:\n",
    "            for line in islice(f, start, None):\n",
    "                yield line"
   ]
  },
  {
   "cell_type": "code",
   "execution_count": 37,
   "metadata": {
    "collapsed": true
   },
   "outputs": [],
   "source": [
    "def _iter_all_lines(files, step):\n",
    "    start = 0\n",
    "    stop = None\n",
    "    return chain(*[islice(_iter_lines(f, min(1, i)), start, stop, step)\n",
    "                   for i, f in enumerate(files)])"
   ]
  },
  {
   "cell_type": "code",
   "execution_count": 38,
   "metadata": {
    "collapsed": true
   },
   "outputs": [],
   "source": [
    "def _extract_number(filename):\n",
    "    r = re.search(r'([\\d]+)', filename)\n",
    "    if r:\n",
    "        return int(r.group(1))"
   ]
  },
  {
   "cell_type": "code",
   "execution_count": 39,
   "metadata": {
    "collapsed": true
   },
   "outputs": [],
   "source": [
    "def _zip_filenames(name):\n",
    "    return sorted(glob.glob('data/trip_{name}_*.zip'.format(name=name)), \n",
    "                  key=_extract_number)"
   ]
  },
  {
   "cell_type": "code",
   "execution_count": null,
   "metadata": {
    "collapsed": false
   },
   "outputs": [],
   "source": [
    "files = _zip_filenames('fare')\n",
    "for line in _iter_all_lines(files, 10000000):\n",
    "    print(line)"
   ]
  }
 ],
 "metadata": {
  "kernelspec": {
   "display_name": "Python 3",
   "name": "python3"
  },
  "language_info": {
   "codemirror_mode": {
    "name": "ipython",
    "version": 3
   },
   "file_extension": ".py",
   "mimetype": "text/x-python",
   "name": "python",
   "nbconvert_exporter": "python",
   "pygments_lexer": "ipython3",
   "version": "3.4.2"
  }
 },
 "nbformat": 4,
 "nbformat_minor": 0
}